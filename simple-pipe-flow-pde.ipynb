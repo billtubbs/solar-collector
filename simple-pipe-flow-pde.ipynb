{
 "cells": [
  {
   "cell_type": "markdown",
   "metadata": {},
   "source": [
    "# Pipe Flow Heat Transport PDE with Pyomo\n",
    "\n",
    "Solving the heat transport equation for incompressible fluid flow in a horizontal pipe:\n",
    "\n",
    "**Solar collector section ($0 < x ≤ L$):**\n",
    "$$\\frac{\\partial T}{\\partial t} + v(t) \\frac{\\partial T}{\\partial x} = \\alpha \\frac{\\partial^2 T}{\\partial x^2} + \\frac{q(t)}{\\rho c_p} - \\frac{4 h(T - T_{amb})}{D \\rho c_p}$$\n",
    "\n",
    "**Insulated pipe extension at outlet ($L < x ≤ L_{extended}$):**\n",
    "$$\\frac{\\partial T}{\\partial t} + v(t) \\frac{\\partial T}{\\partial x} = \\alpha \\frac{\\partial^2 T}{\\partial x^2}$$\n",
    "\n",
    "Where:\n",
    "- $T(x,t)$ : temperature at position x and time t [K]\n",
    "- $v(t)$ : time-varying fluid velocity [m/s]\n",
    "- $\\alpha$ : thermal diffusivity [m²/s]\n",
    "- $q(t)$ : time-varying volumetric heat input rate [W/m³]\n",
    "- $c_p$ : specific heat capacity [J/kg·K]\n",
    "- $h$ : convective heat transfer coefficient [W/m²·K]\n",
    "- $D$ : pipe inner diameter [m]\n",
    "- $T_{amb}$ : ambient temperature [K]"
   ]
  },
  {
   "cell_type": "code",
   "execution_count": null,
   "metadata": {},
   "outputs": [],
   "source": [
    "import os\n",
    "import numpy as np\n",
    "import pandas as pd\n",
    "import matplotlib.pyplot as plt\n",
    "import pyomo as pyo"
   ]
  },
  {
   "cell_type": "code",
   "execution_count": null,
   "metadata": {},
   "outputs": [],
   "source": [
    "plot_dir = \"plots\""
   ]
  },
  {
   "cell_type": "markdown",
   "metadata": {},
   "source": [
    "## Single Temperature Flow Model Simulation"
   ]
  },
  {
   "cell_type": "code",
   "execution_count": null,
   "metadata": {},
   "outputs": [],
   "source": [
    "from solar_collector.solar_collector_dae_pyo import (\n",
    "    ZERO_C,\n",
    "    create_pipe_flow_model,\n",
    "    add_pde_constraints, \n",
    "    solve_model,\n",
    "    plot_results,\n",
    "    print_temp_profiles\n",
    ")"
   ]
  },
  {
   "cell_type": "code",
   "execution_count": null,
   "metadata": {},
   "outputs": [],
   "source": [
    "# Create and solve the model\n",
    "print(\"Creating pipe flow heat transport model...\")\n",
    "model = create_pipe_flow_model(t_final=60.0*5)  # Simulate for 5 minutes\n",
    "\n",
    "print(\"Adding PDE constraints...\")\n",
    "model = add_pde_constraints(model)\n",
    "\n",
    "print(\"Solving the discretized PDE...\")\n",
    "results = solve_model(model, n_x=110, n_t=50, tol=1e-6)\n",
    "\n",
    "print(f\"Solver status: {results.solver.status}\")\n",
    "print(f\"Termination condition: {results.solver.termination_condition}\")\n",
    "\n",
    "if results.solver.termination_condition in ['optimal', 'locallyOptimal']:\n",
    "    if results.solver.termination_condition == 'locallyOptimal':\n",
    "        print(\"WARNING: Solution found is only locally optimal.\")\n",
    "    print(\"Plotting results...\")\n",
    "    t_eval=[0.0, 60.0, 120.0, 180.0, 240.0, 300.0],\n",
    "    x_eval=[0.0, 20.0, 30.0, 60.0, 80.0, 100.0, 110.0]\n",
    "    fig = plot_results(model, t_eval=t_eval, x_eval=x_eval)\n",
    "    plt.tight_layout()\n",
    "    filename = \"collector_pde_temp_profiles.png\"\n",
    "    plt.savefig(os.path.join(plot_dir, filename), dpi=150)\n",
    "    plt.show()\n",
    "    print_temp_profiles(model, t_eval=t_eval, x_eval=x_eval)\n",
    "else:\n",
    "    print(\"Solution not optimal. Check model formulation.\")\n",
    "    print(f\"Solver message: {results.solver.message}\")"
   ]
  },
  {
   "cell_type": "markdown",
   "metadata": {},
   "source": [
    "## Inspect Solution"
   ]
  },
  {
   "cell_type": "code",
   "execution_count": null,
   "metadata": {},
   "outputs": [],
   "source": [
    "T = pd.Series(model.T.extract_values())\n",
    "T.index.names = ['t', 'x']\n",
    "T = T.unstack()\n",
    "T.shape"
   ]
  },
  {
   "cell_type": "markdown",
   "metadata": {},
   "source": [
    "## Single Temperature Flow + Pipe Wall Temperature Model Simulation"
   ]
  },
  {
   "cell_type": "code",
   "execution_count": null,
   "metadata": {},
   "outputs": [],
   "source": [
    "from solar_collector.solar_collector_dae_pyo_two_temp import (\n",
    "    ZERO_C,\n",
    "    create_pipe_flow_model,\n",
    "    add_pde_constraints, \n",
    "    solve_model,\n",
    "    plot_results,\n",
    "    print_temp_profiles\n",
    ")"
   ]
  },
  {
   "cell_type": "code",
   "execution_count": null,
   "metadata": {},
   "outputs": [],
   "source": [
    "# Create and solve the model\n",
    "print(\"Creating pipe flow heat transport model...\")\n",
    "model = create_pipe_flow_model(t_final=60.0*5)  # Simulate for 5 minutes\n",
    "\n",
    "print(\"Adding PDE constraints...\")\n",
    "model = add_pde_constraints(model)\n",
    "\n",
    "print(\"Solving the discretized PDE...\")\n",
    "results = solve_model(model, n_x=110, n_t=50, tol=1e-6)\n",
    "\n",
    "print(f\"Solver status: {results.solver.status}\")\n",
    "print(f\"Termination condition: {results.solver.termination_condition}\")\n",
    "\n",
    "if results.solver.termination_condition in ['optimal', 'locallyOptimal']:\n",
    "    if results.solver.termination_condition == 'locallyOptimal':\n",
    "        print(\"WARNING: Solution found is only locally optimal.\")\n",
    "    print(\"Plotting results...\")\n",
    "    fig = plot_results(\n",
    "        model, \n",
    "        t_vals_to_plot=[0.0, 60.0, 120.0, 180.0, 240.0, 300.0],\n",
    "        x_vals_to_plot=[0.0, 20.0, 30.0, 60.0, 80.0, 100.0, 110.0]\n",
    "    )\n",
    "    plt.tight_layout()\n",
    "    filename = \"collector_pde_temp_profiles.png\"\n",
    "    plt.savefig(os.path.join(plot_dir, filename), dpi=150)\n",
    "    plt.show()\n",
    "    print_temp_profiles(model)\n",
    "else:\n",
    "    print(\"Solution not optimal. Check model formulation.\")\n",
    "    print(f\"Solver message: {results.solver.message}\")"
   ]
  },
  {
   "cell_type": "code",
   "execution_count": null,
   "metadata": {},
   "outputs": [],
   "source": []
  },
  {
   "cell_type": "code",
   "execution_count": null,
   "metadata": {},
   "outputs": [],
   "source": []
  },
  {
   "cell_type": "code",
   "execution_count": null,
   "metadata": {},
   "outputs": [],
   "source": []
  }
 ],
 "metadata": {
  "kernelspec": {
   "display_name": ".venv",
   "language": "python",
   "name": "python3"
  },
  "language_info": {
   "codemirror_mode": {
    "name": "ipython",
    "version": 3
   },
   "file_extension": ".py",
   "mimetype": "text/x-python",
   "name": "python",
   "nbconvert_exporter": "python",
   "pygments_lexer": "ipython3",
   "version": "3.13.2"
  }
 },
 "nbformat": 4,
 "nbformat_minor": 4
}
