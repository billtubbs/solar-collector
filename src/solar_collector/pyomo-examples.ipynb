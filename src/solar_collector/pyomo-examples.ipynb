{
 "cells": [
  {
   "cell_type": "code",
   "execution_count": 1,
   "id": "a8a89d48",
   "metadata": {},
   "outputs": [
    {
     "name": "stdout",
     "output_type": "stream",
     "text": [
      "Status: ok\n",
      "Termination Condition: optimal\n",
      "Optimal x: 0.0\n",
      "Optimal y: 2.0\n",
      "Optimal Objective: 2.0\n"
     ]
    }
   ],
   "source": [
    "import pyomo.environ as pyo\n",
    "\n",
    "# Create a model\n",
    "model = pyo.ConcreteModel()\n",
    "\n",
    "# Define variables\n",
    "model.x = pyo.Var(within=pyo.NonNegativeReals)\n",
    "model.y = pyo.Var(within=pyo.NonNegativeReals)\n",
    "\n",
    "# Define objective\n",
    "model.obj = pyo.Objective(expr=model.x + model.y, sense=pyo.minimize)\n",
    "\n",
    "# Define constraints\n",
    "model.con1 = pyo.Constraint(expr=model.x + 2 * model.y >= 4)\n",
    "model.con2 = pyo.Constraint(expr=model.x - model.y <= 1)\n",
    "\n",
    "# Select solver\n",
    "solver = pyo.SolverFactory('glpk')\n",
    "\n",
    "# Solve the problem\n",
    "result = solver.solve(model)\n",
    "\n",
    "# Display results\n",
    "print('Status:', result.solver.status)\n",
    "print('Termination Condition:', result.solver.termination_condition)\n",
    "print('Optimal x:', pyo.value(model.x))\n",
    "print('Optimal y:', pyo.value(model.y))\n",
    "print('Optimal Objective:', pyo.value(model.obj))"
   ]
  },
  {
   "cell_type": "code",
   "execution_count": null,
   "id": "48b0087f",
   "metadata": {},
   "outputs": [],
   "source": []
  }
 ],
 "metadata": {
  "kernelspec": {
   "display_name": ".venv",
   "language": "python",
   "name": "python3"
  },
  "language_info": {
   "codemirror_mode": {
    "name": "ipython",
    "version": 3
   },
   "file_extension": ".py",
   "mimetype": "text/x-python",
   "name": "python",
   "nbconvert_exporter": "python",
   "pygments_lexer": "ipython3",
   "version": "3.13.2"
  }
 },
 "nbformat": 4,
 "nbformat_minor": 5
}
