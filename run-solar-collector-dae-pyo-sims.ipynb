{
 "cells": [
  {
   "cell_type": "markdown",
   "metadata": {},
   "source": [
    "# Pipe Flow Heat Transport PDE Simulations with Pyomo\n",
    "\n",
    "Solving the heat transport for incompressible fluid flow in a horizontal pipe:"
   ]
  },
  {
   "cell_type": "code",
   "execution_count": 1,
   "metadata": {},
   "outputs": [],
   "source": [
    "import os\n",
    "import numpy as np\n",
    "import pandas as pd\n",
    "import matplotlib.pyplot as plt\n",
    "import pyomo as pyo"
   ]
  },
  {
   "cell_type": "code",
   "execution_count": 2,
   "metadata": {},
   "outputs": [],
   "source": [
    "plot_dir = \"plots\"\n",
    "os.makedirs(plot_dir, exist_ok=True)"
   ]
  },
  {
   "cell_type": "markdown",
   "metadata": {},
   "source": [
    "## Single Temperature Flow Model Simulation\n",
    "\n",
    "**Solar collector section ($0 < x ≤ L$):**\n",
    "$$\\frac{\\partial T}{\\partial t} + v(t) \\frac{\\partial T}{\\partial x} = \\alpha \\frac{\\partial^2 T}{\\partial x^2} + \\frac{q(t)}{\\rho c_p} - \\frac{4 h(T - T_{amb})}{D \\rho c_p}$$\n",
    "\n",
    "**Insulated pipe extension at outlet ($L < x ≤ L_{extended}$):**\n",
    "$$\\frac{\\partial T}{\\partial t} + v(t) \\frac{\\partial T}{\\partial x} = \\alpha \\frac{\\partial^2 T}{\\partial x^2}$$\n",
    "\n",
    "Where:\n",
    "- $T(x,t)$ : temperature at position x and time t [K]\n",
    "- $v(t)$ : time-varying fluid velocity [m/s]\n",
    "- $\\alpha$ : thermal diffusivity [m²/s]\n",
    "- $q(t)$ : time-varying volumetric heat input rate [W/m³]\n",
    "- $c_p$ : specific heat capacity [J/kg·K]\n",
    "- $h$ : convective heat transfer coefficient [W/m²·K]\n",
    "- $D$ : pipe inner diameter [m]\n",
    "- $T_{amb}$ : ambient temperature [K]"
   ]
  },
  {
   "cell_type": "code",
   "execution_count": 3,
   "metadata": {},
   "outputs": [],
   "source": [
    "from solar_collector.solar_collector_dae_pyo import (\n",
    "    ZERO_C,\n",
    "    PIPE_DIAMETER,\n",
    "    COLLECTOR_LENGTH,\n",
    "    THERMAL_DIFFUSIVITY,\n",
    "    create_pipe_flow_model,\n",
    "    add_pde_constraints,\n",
    "    solve_model,\n",
    "    plot_results,\n",
    "    print_temp_profiles,\n",
    ")\n",
    "\n",
    "model_name = \"oil_temp\""
   ]
  },
  {
   "cell_type": "code",
   "execution_count": null,
   "metadata": {},
   "outputs": [],
   "source": [
    "# Calculate Damköhler Number\n",
    "L = COLLECTOR_LENGTH  # m\n",
    "r = PIPE_DIAMETER / 2.0  # m\n",
    "thermal_diffusivity = 2e-6  # m^2/s\n",
    "velocity = 0.2  # m/s\n",
    "Da = (r**2 / thermal_diffusivity) / (L / velocity)\n",
    "\n",
    "# Use multi-region models when Da > 2\n",
    "Da"
   ]
  },
  {
   "cell_type": "code",
   "execution_count": null,
   "metadata": {},
   "outputs": [],
   "source": [
    "# Create and solve the model\n",
    "print(\"Creating pipe flow heat transport model...\")\n",
    "model = create_pipe_flow_model(t_final=60.0 * 5)  # Simulate for 5 minutes\n",
    "\n",
    "print(\"Adding PDE constraints...\")\n",
    "model = add_pde_constraints(model)\n",
    "\n",
    "print(\"Solving the discretized PDE...\")\n",
    "results = solve_model(model, n_x=110, n_t=50, tol=1e-6)\n",
    "\n",
    "print(f\"Solver status: {results.solver.status}\")\n",
    "print(f\"Termination condition: {results.solver.termination_condition}\")\n",
    "\n",
    "if results.solver.termination_condition in [\"optimal\", \"locallyOptimal\"]:\n",
    "    if results.solver.termination_condition == \"locallyOptimal\":\n",
    "        print(\"WARNING: Solution found is only locally optimal.\")\n",
    "    print(\"Plotting results...\")\n",
    "    t_eval = ([0.0, 60.0, 120.0, 180.0, 240.0, 300.0],)\n",
    "    x_eval = [0.0, 20.0, 30.0, 60.0, 80.0, 100.0, 110.0]\n",
    "    fig1, fig2 = plot_results(model, t_eval=t_eval, x_eval=x_eval)\n",
    "    fig1.tight_layout()\n",
    "    filename = f\"model_{model_name}_tsplots.png\"\n",
    "    fig1.savefig(os.path.join(plot_dir, filename), dpi=150)\n",
    "    fig2.tight_layout()\n",
    "    filename = f\"model_{model_name}_oil_temp_field.png\"\n",
    "    fig2.savefig(os.path.join(plot_dir, filename), dpi=150)\n",
    "    plt.show()\n",
    "    print_temp_profiles(model, t_eval=t_eval, x_eval=x_eval)\n",
    "else:\n",
    "    print(\"Solution not optimal. Check model formulation.\")\n",
    "    print(f\"Solver message: {results.solver.message}\")"
   ]
  },
  {
   "cell_type": "markdown",
   "metadata": {},
   "source": [
    "### Inspect Solution"
   ]
  },
  {
   "cell_type": "code",
   "execution_count": null,
   "metadata": {},
   "outputs": [],
   "source": [
    "T = pd.Series(model.T.extract_values())\n",
    "T.index.names = [\"t\", \"x\"]\n",
    "T = T.unstack()\n",
    "T.shape"
   ]
  },
  {
   "cell_type": "markdown",
   "metadata": {},
   "source": [
    "## Flow and Pipe Wall Temperature Model Simulation\n",
    "\n",
    "**Two-Temperature Model with Fluid and Pipe Wall:**\n",
    "\n",
    "This model considers separate temperatures for the fluid ($T_f$) and pipe wall ($T_p$) with heat transfer between them.\n",
    "\n",
    "**Fluid temperature equation:**\n",
    "$$\\rho_f c_{p,f} \\frac{\\partial T_f}{\\partial t} + \\rho_f c_{p,f} v(t) \\frac{\\partial T_f}{\\partial x} = \\rho_f c_{p,f} \\alpha_f \\frac{\\partial^2 T_f}{\\partial x^2} + \\frac{4 h_{int}(T_p - T_f)}{D}$$\n",
    "\n",
    "**Pipe wall temperature equation:**\n",
    "\n",
    "*Solar collector section ($0 < x ≤ L$):*\n",
    "$$\\rho_p c_{p,p} \\frac{\\partial T_p}{\\partial t} = \\rho_p c_{p,p} \\alpha_p \\frac{\\partial^2 T_p}{\\partial x^2} + \\frac{4 q(t) (D + 2d)}{(D + 2d)^2 - D^2} - \\frac{4 h_{int}(T_p - T_f)}{D} - \\frac{4 h_{ext} (D + 2d) (T_p - T_{amb})}{(D + 2d)^2 - D^2}$$\n",
    "\n",
    "*Insulated pipe extension ($L < x ≤ L_{extended}$):*\n",
    "$$\\rho_p c_{p,p} \\frac{\\partial T_p}{\\partial t} = \\rho_p c_{p,p} \\alpha_p \\frac{\\partial^2 T_p}{\\partial x^2} - \\frac{4 h_{int}(T_p - T_f)}{D} - \\frac{4 h_{ext} (D + 2d) (T_p - T_{amb})}{(D + 2d)^2 - D^2}$$\n",
    "\n",
    "Where:\n",
    "- $T_f(x,t)$ : fluid temperature [K]\n",
    "- $T_p(x,t)$ : pipe wall temperature [K]\n",
    "- $\\rho_f, \\rho_p$ : fluid and pipe wall densities [kg/m³]\n",
    "- $c_{p,f}, c_{p,p}$ : specific heat capacities [J/kg·K]\n",
    "- $\\alpha_f = k_f/(\\rho_f c_{p,f})$ : fluid thermal diffusivity [m²/s]\n",
    "- $\\alpha_p = k_p/(\\rho_p c_{p,p})$ : pipe wall thermal diffusivity [m²/s]\n",
    "- $h_{int}$ : internal heat transfer coefficient (wall to fluid) [W/m²·K]\n",
    "- $h_{ext}$ : external heat transfer coefficient (wall to ambient) [W/m²·K]\n",
    "- $D$ : pipe inner diameter [m]\n",
    "- $d$ : pipe wall thickness [m]\n",
    "- $q(t)$ : time-varying heat flux input [W/m²]"
   ]
  },
  {
   "cell_type": "code",
   "execution_count": 7,
   "metadata": {},
   "outputs": [],
   "source": [
    "from solar_collector.solar_collector_dae_pyo_two_temp import (\n",
    "    ZERO_C,\n",
    "    create_pipe_flow_model,\n",
    "    add_pde_constraints,\n",
    "    solve_model,\n",
    "    plot_results,\n",
    "    print_temp_profiles,\n",
    ")\n",
    "\n",
    "model_name = \"oil_wall_temp\""
   ]
  },
  {
   "cell_type": "code",
   "execution_count": null,
   "metadata": {},
   "outputs": [],
   "source": [
    "# Create and solve the model\n",
    "print(\"Creating pipe flow heat transport model...\")\n",
    "model = create_pipe_flow_model(t_final=60.0 * 5)  # Simulate for 5 minutes\n",
    "\n",
    "print(\"Adding PDE constraints...\")\n",
    "model = add_pde_constraints(model)\n",
    "\n",
    "print(\"Solving the discretized PDE...\")\n",
    "results = solve_model(model, n_x=110, n_t=50, tol=1e-6)\n",
    "\n",
    "print(f\"Solver status: {results.solver.status}\")\n",
    "print(f\"Termination condition: {results.solver.termination_condition}\")\n",
    "\n",
    "if results.solver.termination_condition in [\"optimal\", \"locallyOptimal\"]:\n",
    "    if results.solver.termination_condition == \"locallyOptimal\":\n",
    "        print(\"WARNING: Solution found is only locally optimal.\")\n",
    "    print(\"Plotting results...\")\n",
    "    t_eval = ([0.0, 60.0, 120.0, 180.0, 240.0, 300.0],)\n",
    "    x_eval = [0.0, 20.0, 30.0, 60.0, 80.0, 100.0, 110.0]\n",
    "    fig1, fig2, fig3 = plot_results(model, t_eval=t_eval, x_eval=x_eval)\n",
    "    fig1.tight_layout()\n",
    "    filename = f\"model_{model_name}_tsplots.png\"\n",
    "    fig1.savefig(os.path.join(plot_dir, filename), dpi=150)\n",
    "    fig2.tight_layout()\n",
    "    filename = f\"model_{model_name}_oil_temp_field.png\"\n",
    "    fig2.savefig(os.path.join(plot_dir, filename), dpi=150)\n",
    "    fig3.tight_layout()\n",
    "    filename = f\"model_{model_name}_wall_temp_field.png\"\n",
    "    fig3.savefig(os.path.join(plot_dir, filename), dpi=150)\n",
    "    plt.show()\n",
    "    print_temp_profiles(model, t_eval=t_eval, x_eval=x_eval)\n",
    "else:\n",
    "    print(\"Solution not optimal. Check model formulation.\")\n",
    "    print(f\"Solver message: {results.solver.message}\")"
   ]
  },
  {
   "cell_type": "code",
   "execution_count": null,
   "metadata": {},
   "outputs": [],
   "source": []
  },
  {
   "cell_type": "code",
   "execution_count": null,
   "metadata": {},
   "outputs": [],
   "source": []
  },
  {
   "cell_type": "code",
   "execution_count": null,
   "metadata": {},
   "outputs": [],
   "source": []
  }
 ],
 "metadata": {
  "kernelspec": {
   "display_name": ".venv",
   "language": "python",
   "name": "python3"
  },
  "language_info": {
   "codemirror_mode": {
    "name": "ipython",
    "version": 3
   },
   "file_extension": ".py",
   "mimetype": "text/x-python",
   "name": "python",
   "nbconvert_exporter": "python",
   "pygments_lexer": "ipython3",
   "version": "3.13.2"
  }
 },
 "nbformat": 4,
 "nbformat_minor": 4
}
