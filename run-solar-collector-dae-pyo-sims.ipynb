{
 "cells": [
  {
   "cell_type": "markdown",
   "metadata": {},
   "source": [
    "# Pipe Flow Heat Transport PDE Simulations with Pyomo\n",
    "\n",
    "Solving the heat transport for incompressible fluid flow in a horizontal pipe:"
   ]
  },
  {
   "cell_type": "code",
   "execution_count": null,
   "metadata": {},
   "outputs": [],
   "source": [
    "import os\n",
    "import numpy as np\n",
    "import pandas as pd\n",
    "import matplotlib.pyplot as plt\n",
    "import pyomo as pyo"
   ]
  },
  {
   "cell_type": "code",
   "execution_count": null,
   "metadata": {},
   "outputs": [],
   "source": [
    "plot_dir = \"plots\"\n",
    "os.makedirs(plot_dir, exist_ok=True)"
   ]
  },
  {
   "cell_type": "markdown",
   "metadata": {},
   "source": [
    "## Single Temperature Flow Model Simulation\n",
    "\n",
    "**Solar collector section ($0 < x ≤ L$):**\n",
    "$$\\frac{\\partial T}{\\partial t} + v(t) \\frac{\\partial T}{\\partial x} = \\alpha \\frac{\\partial^2 T}{\\partial x^2} + \\frac{q(t)}{\\rho c_p} - \\frac{4 h(T - T_{amb})}{D \\rho c_p}$$\n",
    "\n",
    "**Insulated pipe extension at outlet ($L < x ≤ L_{extended}$):**\n",
    "$$\\frac{\\partial T}{\\partial t} + v(t) \\frac{\\partial T}{\\partial x} = \\alpha \\frac{\\partial^2 T}{\\partial x^2}$$\n",
    "\n",
    "Where:\n",
    "- $T(x,t)$ : temperature at position x and time t [K]\n",
    "- $v(t)$ : time-varying fluid velocity [m/s]\n",
    "- $\\alpha$ : thermal diffusivity [m²/s]\n",
    "- $q(t)$ : time-varying volumetric heat input rate [W/m³]\n",
    "- $c_p$ : specific heat capacity [J/kg·K]\n",
    "- $h$ : convective heat transfer coefficient [W/m²·K]\n",
    "- $D$ : pipe inner diameter [m]\n",
    "- $T_{amb}$ : ambient temperature [K]"
   ]
  },
  {
   "cell_type": "code",
   "execution_count": null,
   "metadata": {},
   "outputs": [],
   "source": [
    "from solar_collector.solar_collector_dae_pyo import (\n",
    "    ZERO_C,\n",
    "    PIPE_DIAMETER,\n",
    "    COLLECTOR_LENGTH,\n",
    "    THERMAL_DIFFUSIVITY,\n",
    "    create_pipe_flow_model,\n",
    "    add_pde_constraints,\n",
    "    solve_model,\n",
    "    plot_results,\n",
    "    print_temp_profiles,\n",
    ")\n",
    "\n",
    "model_name = \"oil_temp\""
   ]
  },
  {
   "cell_type": "code",
   "execution_count": null,
   "metadata": {},
   "outputs": [],
   "source": [
    "# Create and solve the model\n",
    "print(\"Creating pipe flow heat transport model...\")\n",
    "model = create_pipe_flow_model(t_final=60.0 * 5)  # Simulate for 5 minutes\n",
    "\n",
    "print(\"Adding PDE constraints...\")\n",
    "model = add_pde_constraints(model)\n",
    "\n",
    "print(\"Solving the discretized PDE...\")\n",
    "results = solve_model(model, n_x=110, n_t=50, tol=1e-6)\n",
    "\n",
    "print(f\"Solver status: {results.solver.status}\")\n",
    "print(f\"Termination condition: {results.solver.termination_condition}\")\n",
    "\n",
    "if results.solver.termination_condition in [\"optimal\", \"locallyOptimal\"]:\n",
    "    if results.solver.termination_condition == \"locallyOptimal\":\n",
    "        print(\"WARNING: Solution found is only locally optimal.\")\n",
    "    print(\"Plotting results...\")\n",
    "    t_eval = ([0.0, 60.0, 120.0, 180.0, 240.0, 300.0],)\n",
    "    x_eval = [0.0, 20.0, 30.0, 60.0, 80.0, 100.0, 110.0]\n",
    "    fig1, fig2 = plot_results(model, t_eval=t_eval, x_eval=x_eval)\n",
    "    fig1.tight_layout()\n",
    "    filename = f\"model_{model_name}_tsplots.png\"\n",
    "    fig1.savefig(os.path.join(plot_dir, filename), dpi=150)\n",
    "    fig2.tight_layout()\n",
    "    filename = f\"model_{model_name}_oil_temp_field.png\"\n",
    "    fig2.savefig(os.path.join(plot_dir, filename), dpi=150)\n",
    "    plt.show()\n",
    "    print_temp_profiles(model, t_eval=t_eval, x_eval=x_eval)\n",
    "else:\n",
    "    print(\"Solution not optimal. Check model formulation.\")\n",
    "    print(f\"Solver message: {results.solver.message}\")"
   ]
  },
  {
   "cell_type": "markdown",
   "metadata": {},
   "source": [
    "### Inspect Solution"
   ]
  },
  {
   "cell_type": "code",
   "execution_count": null,
   "metadata": {},
   "outputs": [],
   "source": [
    "T = pd.Series(model.T.extract_values())\n",
    "T.index.names = [\"t\", \"x\"]\n",
    "T = T.unstack()\n",
    "T.shape"
   ]
  },
  {
   "cell_type": "markdown",
   "metadata": {},
   "source": [
    "## Empircal Heat Transfer Coefficient Formulas"
   ]
  },
  {
   "cell_type": "code",
   "execution_count": null,
   "metadata": {},
   "outputs": [],
   "source": [
    "from solar_collector.solar_collector_dae_pyo_two_temp import (\n",
    "    PIPE_DIAMETER,\n",
    "    FLUID_DENSITY,\n",
    "    FLUID_DYNAMIC_VISCOSITY,\n",
    "    FLUID_THERMAL_CONDUCTIVITY,\n",
    "    FLUID_SPECIFIC_HEAT\n",
    ")\n",
    "from solar_collector.heat_transfer import (\n",
    "    calculate_heat_transfer_coefficient_nusselt,\n",
    "    calculate_heat_transfer_coefficient_turbulent\n",
    ")"
   ]
  },
  {
   "cell_type": "code",
   "execution_count": null,
   "metadata": {},
   "outputs": [],
   "source": [
    "pipe_diameter = PIPE_DIAMETER\n",
    "fluid_density = FLUID_DENSITY\n",
    "fluid_viscosity = FLUID_DYNAMIC_VISCOSITY\n",
    "fluid_thermal_conductivity = FLUID_THERMAL_CONDUCTIVITY\n",
    "fluid_specific_heat = FLUID_SPECIFIC_HEAT\n",
    "\n",
    "velocity = np.logspace(np.log10(0.02), np.log10(1.0), 101)\n",
    "\n",
    "h_lam = calculate_heat_transfer_coefficient_nusselt(\n",
    "    pipe_diameter,\n",
    "    fluid_thermal_conductivity,\n",
    "    Nu=4.36\n",
    ")\n",
    "\n",
    "h_turb, Re, Pr, Nu = calculate_heat_transfer_coefficient_turbulent(\n",
    "    velocity,\n",
    "    pipe_diameter,\n",
    "    fluid_density,\n",
    "    fluid_viscosity,\n",
    "    fluid_thermal_conductivity,\n",
    "    fluid_specific_heat\n",
    ")\n",
    "\n",
    "fig, ax = plt.subplots(figsize=(7, 3))\n",
    "\n",
    "ax.semilogx(velocity, h_turb, color='tab:blue', label=\"$h$ turbulent ($Nu = 0.023 * Re^{0.8} * Pr^{0.4}$)\")\n",
    "x_ticks = [0.02, 0.03, 0.05, 0.1, 0.2, 0.3, 0.5, 1.0]\n",
    "ax.set_xticks(x_ticks)\n",
    "ax.set_xticklabels(x_ticks)\n",
    "ax.set_ylim([0, None])\n",
    "\n",
    "ax.axhline(h_lam, color='tab:blue', linestyle='--', label=\"$h$ laminar ($Nu = 4.36$)\")\n",
    "ax2 = ax.twinx()\n",
    "ax2.plot(velocity, Re, color='tab:orange', label=\"Reynold's number (Re)\")\n",
    "ax2.set_ylim([0, None])\n",
    "\n",
    "v_min_turb = velocity[np.argmin((Re - 4000) ** 2)]\n",
    "v_max_lam = velocity[np.argmin((Re - 2300) ** 2)]\n",
    "xlim = ax2.get_xlim()\n",
    "ylim = ax2.get_ylim()\n",
    "y = np.linspace(ylim[0], ylim[1], 2)\n",
    "ax2.fill_betweenx(\n",
    "    y, np.full_like(y, xlim[0]), x2=np.full_like(y, v_max_lam),\n",
    "    color='tab:green', alpha=0.1, label='laminar regime'\n",
    ")\n",
    "ax2.fill_betweenx(\n",
    "    y, np.full_like(y, v_min_turb), x2=np.full_like(y, xlim[1]),\n",
    "    color='tab:red', alpha=0.1, label='turbulent regime'\n",
    ")\n",
    "\n",
    "ax.set_xlabel(\"velocity [m/s]\")\n",
    "ax.set_ylabel(\"$h$ [W/m²·K]\")\n",
    "ax.grid()\n",
    "ax.legend(loc='upper left')\n",
    "ax.set_title(\"Dittus-Boelter Correlation for Thermal Oil\")\n",
    "ax2.set_ylabel(\"Re\")\n",
    "ax2.legend(loc='lower right')\n",
    "plt.tight_layout()\n",
    "plt.show()"
   ]
  },
  {
   "cell_type": "code",
   "execution_count": null,
   "metadata": {},
   "outputs": [],
   "source": [
    "# Calculate Damköhler Number\n",
    "L = COLLECTOR_LENGTH  # m\n",
    "r = PIPE_DIAMETER / 2.0  # m\n",
    "thermal_diffusivity = 2e-6  # m^2/s\n",
    "velocity = 0.5  # m/s\n",
    "Da = (r**2 / thermal_diffusivity) / (L / velocity)\n",
    "\n",
    "# Use multi-region models when Da > 2\n",
    "Da"
   ]
  },
  {
   "cell_type": "markdown",
   "metadata": {},
   "source": [
    "## Flow and Pipe Wall Temperature Model Simulation\n",
    "\n",
    "**Two-Temperature Model with Fluid and Pipe Wall:**\n",
    "\n",
    "This model considers separate temperatures for the fluid ($T_f$) and pipe wall ($T_p$) with heat transfer between them.\n",
    "\n",
    "**Fluid temperature equation:**\n",
    "$$\\rho_f c_{p,f} \\frac{\\partial T_f}{\\partial t} + \\rho_f c_{p,f} v(t) \\frac{\\partial T_f}{\\partial x} = \\rho_f c_{p,f} \\alpha_f \\frac{\\partial^2 T_f}{\\partial x^2} + \\frac{4 h_{int}(T_p - T_f)}{D}$$\n",
    "\n",
    "**Pipe wall temperature equation:**\n",
    "\n",
    "*Solar collector section ($0 < x ≤ L$):*\n",
    "$$\\rho_p c_{p,p} \\frac{\\partial T_p}{\\partial t} = \\rho_p c_{p,p} \\alpha_p \\frac{\\partial^2 T_p}{\\partial x^2} + \\frac{4 q(t) (D + 2d)}{(D + 2d)^2 - D^2} - \\frac{4 h_{int}(T_p - T_f)}{D} - \\frac{4 h_{ext} (D + 2d) (T_p - T_{amb})}{(D + 2d)^2 - D^2}$$\n",
    "\n",
    "*Insulated pipe extension ($L < x ≤ L_{extended}$):*\n",
    "$$\\rho_p c_{p,p} \\frac{\\partial T_p}{\\partial t} = \\rho_p c_{p,p} \\alpha_p \\frac{\\partial^2 T_p}{\\partial x^2} - \\frac{4 h_{int}(T_p - T_f)}{D} - \\frac{4 h_{ext} (D + 2d) (T_p - T_{amb})}{(D + 2d)^2 - D^2}$$\n",
    "\n",
    "Where:\n",
    "- $T_f(x,t)$ : fluid temperature [K]\n",
    "- $T_p(x,t)$ : pipe wall temperature [K]\n",
    "- $\\rho_f, \\rho_p$ : fluid and pipe wall densities [kg/m³]\n",
    "- $c_{p,f}, c_{p,p}$ : specific heat capacities [J/kg·K]\n",
    "- $\\alpha_f = k_f/(\\rho_f c_{p,f})$ : fluid thermal diffusivity [m²/s]\n",
    "- $\\alpha_p = k_p/(\\rho_p c_{p,p})$ : pipe wall thermal diffusivity [m²/s]\n",
    "- $h_{int}$ : internal heat transfer coefficient (wall to fluid) [W/m²·K]\n",
    "- $h_{ext}$ : external heat transfer coefficient (wall to ambient) [W/m²·K]\n",
    "- $D$ : pipe inner diameter [m]\n",
    "- $d$ : pipe wall thickness [m]\n",
    "- $q(t)$ : time-varying heat flux input [W/m²]"
   ]
  },
  {
   "cell_type": "code",
   "execution_count": null,
   "metadata": {},
   "outputs": [],
   "source": [
    "from solar_collector.solar_collector_dae_pyo_two_temp import (\n",
    "    ZERO_C,\n",
    "    create_pipe_flow_model,\n",
    "    add_pde_constraints,\n",
    "    solve_model,\n",
    "    plot_results,\n",
    "    print_temp_profiles,\n",
    ")\n",
    "\n",
    "model_name = \"oil_wall_temp\""
   ]
  },
  {
   "cell_type": "code",
   "execution_count": null,
   "metadata": {},
   "outputs": [],
   "source": [
    "# Create and solve the model\n",
    "print(\"Creating pipe flow heat transport model...\")\n",
    "model = create_pipe_flow_model(t_final=60.0 * 5)  # Simulate for 5 minutes\n",
    "\n",
    "print(\"Adding PDE constraints...\")\n",
    "model = add_pde_constraints(model)\n",
    "\n",
    "print(\"Solving the discretized PDE...\")\n",
    "results = solve_model(model, n_x=110, n_t=50, tol=1e-6)\n",
    "\n",
    "print(f\"Solver status: {results.solver.status}\")\n",
    "print(f\"Termination condition: {results.solver.termination_condition}\")\n",
    "\n",
    "if results.solver.termination_condition in [\"optimal\", \"locallyOptimal\"]:\n",
    "    if results.solver.termination_condition == \"locallyOptimal\":\n",
    "        print(\"WARNING: Solution found is only locally optimal.\")\n",
    "    print(\"Plotting results...\")\n",
    "    t_eval = ([0.0, 60.0, 120.0, 180.0, 240.0, 300.0],)\n",
    "    x_eval = [0.0, 20.0, 30.0, 60.0, 80.0, 100.0, 110.0]\n",
    "    fig1, fig2, fig3 = plot_results(model, t_eval=t_eval, x_eval=x_eval)\n",
    "    fig1.tight_layout()\n",
    "    filename = f\"model_{model_name}_tsplots.png\"\n",
    "    fig1.savefig(os.path.join(plot_dir, filename), dpi=150)\n",
    "    fig2.tight_layout()\n",
    "    filename = f\"model_{model_name}_oil_temp_field.png\"\n",
    "    fig2.savefig(os.path.join(plot_dir, filename), dpi=150)\n",
    "    fig3.tight_layout()\n",
    "    filename = f\"model_{model_name}_wall_temp_field.png\"\n",
    "    fig3.savefig(os.path.join(plot_dir, filename), dpi=150)\n",
    "    plt.show()\n",
    "    print_temp_profiles(model, t_eval=t_eval, x_eval=x_eval)\n",
    "else:\n",
    "    print(\"Solution not optimal. Check model formulation.\")\n",
    "    print(f\"Solver message: {results.solver.message}\")"
   ]
  },
  {
   "cell_type": "code",
   "execution_count": null,
   "metadata": {},
   "outputs": [],
   "source": []
  },
  {
   "cell_type": "code",
   "execution_count": null,
   "metadata": {},
   "outputs": [],
   "source": []
  },
  {
   "cell_type": "code",
   "execution_count": null,
   "metadata": {},
   "outputs": [],
   "source": []
  }
 ],
 "metadata": {
  "kernelspec": {
   "display_name": ".venv",
   "language": "python",
   "name": "python3"
  },
  "language_info": {
   "codemirror_mode": {
    "name": "ipython",
    "version": 3
   },
   "file_extension": ".py",
   "mimetype": "text/x-python",
   "name": "python",
   "nbconvert_exporter": "python",
   "pygments_lexer": "ipython3",
   "version": "3.13.2"
  }
 },
 "nbformat": 4,
 "nbformat_minor": 4
}
